{
 "cells": [
  {
   "cell_type": "code",
   "execution_count": 52,
   "metadata": {
    "collapsed": false
   },
   "outputs": [],
   "source": [
    "import numpy as np\n",
    "import matplotlib.pyplot as plt"
   ]
  },
  {
   "cell_type": "code",
   "execution_count": 53,
   "metadata": {
    "collapsed": false
   },
   "outputs": [],
   "source": [
    "x = np.array([0.0, 2.5, 5.0, 12.5, 20.0, 20.0, 27.5, 35.0])\n",
    "y = np.array([20.0, 14.2, 0.0, -10.0, -15.0, -10.0, 0.0, 14.2])"
   ]
  },
  {
   "cell_type": "code",
   "execution_count": 54,
   "metadata": {
    "collapsed": true
   },
   "outputs": [],
   "source": [
    "def get_axvline(_from=0, _to=0.5, _ymin=0, _ymax=1):\n",
    "    _span = _ymax - _ymin\n",
    "    \n",
    "    def positive_axis():\n",
    "        return _from < _to\n",
    "    \n",
    "    ymin_ = ymax_ = None\n",
    "    \n",
    "    if positive_axis():\n",
    "        ymin_ = (_from + abs(_ymin))/float(_span)\n",
    "        ymax_ = (_to + abs(_ymin))/float(_span)\n",
    "    else:\n",
    "        ymin_ = (_to + abs(_ymin))/float(_span)\n",
    "        ymax_ = (_from + abs(_ymin))/float(_span)\n",
    "\n",
    "    return ymin_, ymax_ "
   ]
  },
  {
   "cell_type": "code",
   "execution_count": 61,
   "metadata": {
    "collapsed": false
   },
   "outputs": [],
   "source": [
    "def plot_original_data(_x, _horizontal=None, title='Sinal X', savefig=False, fname='images/default.png'):\n",
    "    if not (_horizontal == None):\n",
    "        _horizontal = list(range(len(_x)))\n",
    "    plt.plot(_horizontal, _x, 'o')\n",
    "    for eixo_x in _horizontal:\n",
    "        min_y, max_y = get_axvline(0, _x[eixo_x], min(_x), max(_x))\n",
    "        plt.axvline(x=eixo_x, ymin=min_y, ymax=max_y, color='k')\n",
    "    \n",
    "    plt.xlabel('Amostras')\n",
    "    plt.ylabel('Amplitude')\n",
    "    plt.title(title)\n",
    "    if savefig:\n",
    "        plt.savefig(fname)\n",
    "    else:\n",
    "        plt.show()\n",
    "    plt.close()"
   ]
  },
  {
   "cell_type": "code",
   "execution_count": 62,
   "metadata": {
    "collapsed": false
   },
   "outputs": [],
   "source": [
    "horizontal = list(range(len(x)))\n",
    "plot_original_data(_x=x, _horizontal=horizontal, title='Sinal X', savefig=True, fname='../propostas-trabalho-final/imagens/sinal_x.png')"
   ]
  },
  {
   "cell_type": "code",
   "execution_count": 57,
   "metadata": {
    "collapsed": true
   },
   "outputs": [],
   "source": [
    "def get_even_periodic_extension_from_signal(x, n=2):\n",
    "    return np.tile(x, n)"
   ]
  },
  {
   "cell_type": "code",
   "execution_count": 58,
   "metadata": {
    "collapsed": false
   },
   "outputs": [],
   "source": [
    "def get_odd_periodic_extension_from_signal(x, n=2):\n",
    "    result = x\n",
    "    flipped = np.flipud(x)\n",
    "    for i in range(n-1):\n",
    "        result = np.concatenate((result, flipped))\n",
    "        flipped = np.flipud(flipped)\n",
    "    return result"
   ]
  },
  {
   "cell_type": "code",
   "execution_count": 67,
   "metadata": {
    "collapsed": false
   },
   "outputs": [],
   "source": [
    "def get_mirror_odd_periodic_extension_from_signal(x, n=2):\n",
    "    result = x\n",
    "    flipped = np.flipud(-1*x)\n",
    "    for i in range(n-1):\n",
    "        result = np.concatenate((result, flipped))\n",
    "        flipped = np.flipud(-1*flipped)\n",
    "    return result"
   ]
  },
  {
   "cell_type": "code",
   "execution_count": 64,
   "metadata": {
    "collapsed": false
   },
   "outputs": [],
   "source": [
    "horizontal = list(range(-len(x), 2*len(x)))\n",
    "eixo_x_even = get_even_periodic_extension_from_signal(x, 3)\n",
    "plot_original_data(eixo_x_even, horizontal, title='Extensao periodica X', savefig=True, fname='../propostas-trabalho-final/imagens/extensao_x.png')"
   ]
  },
  {
   "cell_type": "code",
   "execution_count": 72,
   "metadata": {
    "collapsed": true
   },
   "outputs": [],
   "source": [
    "repetitions = 3\n",
    "eixo_x_odd = get_odd_periodic_extension_from_signal(x, repetitions)"
   ]
  },
  {
   "cell_type": "code",
   "execution_count": 73,
   "metadata": {
    "collapsed": false
   },
   "outputs": [],
   "source": [
    "horizontal = np.array(list(range(len(eixo_x_odd)))) - len(x)"
   ]
  },
  {
   "cell_type": "code",
   "execution_count": 74,
   "metadata": {
    "collapsed": false
   },
   "outputs": [
    {
     "name": "stderr",
     "output_type": "stream",
     "text": [
      "D:\\Users\\Pablo\\Anaconda2\\lib\\site-packages\\ipykernel\\__main__.py:2: FutureWarning: comparison to `None` will result in an elementwise object comparison in the future.\n",
      "  from ipykernel import kernelapp as app\n"
     ]
    }
   ],
   "source": [
    "plot_original_data(eixo_x_odd, horizontal, title='Extensao periodica par de X', savefig=True, fname='../propostas-trabalho-final/imagens/extensao_par_x.png')"
   ]
  },
  {
   "cell_type": "code",
   "execution_count": 71,
   "metadata": {
    "collapsed": false
   },
   "outputs": [
    {
     "name": "stderr",
     "output_type": "stream",
     "text": [
      "D:\\Users\\Pablo\\Anaconda2\\lib\\site-packages\\ipykernel\\__main__.py:2: FutureWarning: comparison to `None` will result in an elementwise object comparison in the future.\n",
      "  from ipykernel import kernelapp as app\n"
     ]
    }
   ],
   "source": [
    "repetitions = 3\n",
    "eixo_x_odd_mirror = get_mirror_odd_periodic_extension_from_signal(x, repetitions)\n",
    "horizontal = np.array(list(range(len(eixo_x_odd_mirror)))) - len(x)\n",
    "plot_original_data(eixo_x_odd_mirror, horizontal, title='Extensao periodica impar de X', savefig=True, fname='../propostas-trabalho-final/imagens/extensao_impar_x.png')"
   ]
  },
  {
   "cell_type": "markdown",
   "metadata": {},
   "source": [
    "SINAL Y"
   ]
  },
  {
   "cell_type": "code",
   "execution_count": 63,
   "metadata": {
    "collapsed": false
   },
   "outputs": [],
   "source": [
    "horizontal = list(range(len(y)))\n",
    "plot_original_data(_x=y, _horizontal=horizontal, title='Sinal Y', savefig=True, fname='../propostas-trabalho-final/imagens/sinal_y.png')"
   ]
  },
  {
   "cell_type": "code",
   "execution_count": 66,
   "metadata": {
    "collapsed": false
   },
   "outputs": [],
   "source": [
    "horizontal = list(range(-len(y), 2*len(y)))\n",
    "plot_original_data(get_even_periodic_extension_from_signal(y, 3), horizontal, title='Extensao periodica par de Y', savefig=True, fname='../propostas-trabalho-final/imagens/extensao_par_y.png')"
   ]
  },
  {
   "cell_type": "code",
   "execution_count": 76,
   "metadata": {
    "collapsed": true
   },
   "outputs": [],
   "source": [
    "horizontal = list(range(-len(y), 2*len(y)+2))\n",
    "plot_original_data(get_mirror_odd_periodic_extension_from_signal(y, 3), horizontal, title='Extensao periodica impar de Y', savefig=True, fname='../propostas-trabalho-final/imagens/extensao_impar_y.png')"
   ]
  },
  {
   "cell_type": "code",
   "execution_count": 87,
   "metadata": {
    "collapsed": false
   },
   "outputs": [
    {
     "data": {
      "text/plain": [
       "array([ 20. ,  14.2,   0. , -10. , -15. , -10. ,   0. ,  14.2, -14.2,\n",
       "        -0. ,  10. ,  15. ,  10. ,  -0. , -14.2, -20. ,  20. ,  14.2,\n",
       "         0. , -10. , -15. , -10. ,   0. ,  14.2])"
      ]
     },
     "execution_count": 87,
     "metadata": {},
     "output_type": "execute_result"
    }
   ],
   "source": [
    "yy=get_mirror_odd_periodic_extension_from_signal(y, 3)\n",
    "(yy)"
   ]
  },
  {
   "cell_type": "code",
   "execution_count": 86,
   "metadata": {
    "collapsed": false
   },
   "outputs": [
    {
     "data": {
      "text/plain": [
       "[-8,\n",
       " -7,\n",
       " -6,\n",
       " -5,\n",
       " -4,\n",
       " -3,\n",
       " -2,\n",
       " -1,\n",
       " 0,\n",
       " 1,\n",
       " 2,\n",
       " 3,\n",
       " 4,\n",
       " 5,\n",
       " 6,\n",
       " 7,\n",
       " 8,\n",
       " 9,\n",
       " 10,\n",
       " 11,\n",
       " 12,\n",
       " 13,\n",
       " 14,\n",
       " 15]"
      ]
     },
     "execution_count": 86,
     "metadata": {},
     "output_type": "execute_result"
    }
   ],
   "source": [
    "(range(-len(y), 2*len(y)))"
   ]
  },
  {
   "cell_type": "code",
   "execution_count": 197,
   "metadata": {
    "collapsed": false
   },
   "outputs": [],
   "source": [
    "x_hat = np.fft.fft(x)\n",
    "y_hat = np.fft.fft(y)"
   ]
  },
  {
   "cell_type": "markdown",
   "metadata": {},
   "source": [
    "A transformada de Fourier do sinal X é composta de valores complexos"
   ]
  },
  {
   "cell_type": "code",
   "execution_count": 203,
   "metadata": {
    "collapsed": false
   },
   "outputs": [
    {
     "data": {
      "text/plain": [
       "array([ 122.50000000 +0.j        ,  -16.46446609+50.78427125j,\n",
       "        -12.50000000+25.j        ,  -23.53553391 +5.78427125j,\n",
       "        -17.50000000 +0.j        ,  -23.53553391 -5.78427125j,\n",
       "        -12.50000000-25.j        ,  -16.46446609-50.78427125j])"
      ]
     },
     "execution_count": 203,
     "metadata": {},
     "output_type": "execute_result"
    }
   ],
   "source": [
    "x_hat"
   ]
  },
  {
   "cell_type": "code",
   "execution_count": 204,
   "metadata": {
    "collapsed": false
   },
   "outputs": [
    {
     "data": {
      "text/plain": [
       "array([ 13.40000000 +0.00000000e+00j,  69.22396821 -2.48689958e-14j,\n",
       "         5.00000000 +0.00000000e+00j,   0.77603179 +2.84217094e-14j,\n",
       "        -3.40000000 +0.00000000e+00j,   0.77603179 +2.48689958e-14j,\n",
       "         5.00000000 +0.00000000e+00j,  69.22396821 -2.84217094e-14j])"
      ]
     },
     "execution_count": 204,
     "metadata": {},
     "output_type": "execute_result"
    }
   ],
   "source": [
    "y_hat"
   ]
  },
  {
   "cell_type": "code",
   "execution_count": 207,
   "metadata": {
    "collapsed": true
   },
   "outputs": [],
   "source": [
    "from scipy import fftpack"
   ]
  },
  {
   "cell_type": "code",
   "execution_count": 208,
   "metadata": {
    "collapsed": false
   },
   "outputs": [
    {
     "data": {
      "text/plain": [
       "array([ 245.        , -129.82191206,    8.44623199,  -10.69124485,\n",
       "         17.67766953,   -8.17540614,   -7.32537816,    3.88987995])"
      ]
     },
     "execution_count": 208,
     "metadata": {},
     "output_type": "execute_result"
    }
   ],
   "source": [
    "fftpack.dct(x)"
   ]
  },
  {
   "cell_type": "code",
   "execution_count": null,
   "metadata": {
    "collapsed": true
   },
   "outputs": [],
   "source": []
  }
 ],
 "metadata": {
  "kernelspec": {
   "display_name": "Python 2",
   "language": "python",
   "name": "python2"
  },
  "language_info": {
   "codemirror_mode": {
    "name": "ipython",
    "version": 2
   },
   "file_extension": ".py",
   "mimetype": "text/x-python",
   "name": "python",
   "nbconvert_exporter": "python",
   "pygments_lexer": "ipython2",
   "version": "2.7.13"
  }
 },
 "nbformat": 4,
 "nbformat_minor": 2
}
